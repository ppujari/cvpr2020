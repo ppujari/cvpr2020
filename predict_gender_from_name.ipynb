{
 "cells": [
  {
   "cell_type": "code",
   "execution_count": 94,
   "metadata": {},
   "outputs": [],
   "source": [
    "import pandas as pd\n",
    "import numpy as np\n",
    "import math\n",
    "import operator"
   ]
  },
  {
   "cell_type": "markdown",
   "metadata": {},
   "source": [
    "## Predict Gender from Name:\n",
    "Wikidata provided pages ( Person ID ) field has many attributes to consider but the question asks to predict from name only. So, I did not fetch other attrinutes from the page. Simple approach is to create some features like the last char of first as one feature, length of first name could be another feature. Since number of features are very less, I used K-NN algorithm which is very descent for less number of features, but it is very memory intensive.\n",
    "\n",
    "From the person ID link, one can capture more features like Description, Occupation, Country Of Origin etc.\n"
   ]
  },
  {
   "cell_type": "code",
   "execution_count": 95,
   "metadata": {},
   "outputs": [],
   "source": [
    "# Read data into pandas data frame\n",
    "data_file = pd.read_excel('all_names.xlsx')"
   ]
  },
  {
   "cell_type": "code",
   "execution_count": 96,
   "metadata": {},
   "outputs": [
    {
     "name": "stdout",
     "output_type": "stream",
     "text": [
      "(99999, 4)\n"
     ]
    }
   ],
   "source": [
    "print(data_file.shape)"
   ]
  },
  {
   "cell_type": "code",
   "execution_count": 97,
   "metadata": {},
   "outputs": [
    {
     "data": {
      "text/html": [
       "<div>\n",
       "<style scoped>\n",
       "    .dataframe tbody tr th:only-of-type {\n",
       "        vertical-align: middle;\n",
       "    }\n",
       "\n",
       "    .dataframe tbody tr th {\n",
       "        vertical-align: top;\n",
       "    }\n",
       "\n",
       "    .dataframe thead th {\n",
       "        text-align: right;\n",
       "    }\n",
       "</style>\n",
       "<table border=\"1\" class=\"dataframe\">\n",
       "  <thead>\n",
       "    <tr style=\"text-align: right;\">\n",
       "      <th></th>\n",
       "      <th>Person ID</th>\n",
       "      <th>Person Name</th>\n",
       "      <th>Gender</th>\n",
       "      <th>Train/Test</th>\n",
       "    </tr>\n",
       "  </thead>\n",
       "  <tbody>\n",
       "    <tr>\n",
       "      <th>0</th>\n",
       "      <td>http://www.wikidata.org/entity/Q117915</td>\n",
       "      <td>-minu</td>\n",
       "      <td>Male</td>\n",
       "      <td>Test</td>\n",
       "    </tr>\n",
       "    <tr>\n",
       "      <th>1</th>\n",
       "      <td>http://www.wikidata.org/entity/Q11515</td>\n",
       "      <td>(.)p(...)nin</td>\n",
       "      <td>Male</td>\n",
       "      <td>Train</td>\n",
       "    </tr>\n",
       "    <tr>\n",
       "      <th>2</th>\n",
       "      <td>http://www.wikidata.org/entity/Q23923</td>\n",
       "      <td>12th Planet</td>\n",
       "      <td>Male</td>\n",
       "      <td>Train</td>\n",
       "    </tr>\n",
       "    <tr>\n",
       "      <th>3</th>\n",
       "      <td>http://www.wikidata.org/entity/Q129668</td>\n",
       "      <td>2 Chainz</td>\n",
       "      <td>Male</td>\n",
       "      <td>Train</td>\n",
       "    </tr>\n",
       "    <tr>\n",
       "      <th>4</th>\n",
       "      <td>http://www.wikidata.org/entity/Q6060</td>\n",
       "      <td>50 Cent</td>\n",
       "      <td>Male</td>\n",
       "      <td>Train</td>\n",
       "    </tr>\n",
       "  </tbody>\n",
       "</table>\n",
       "</div>"
      ],
      "text/plain": [
       "                                Person ID   Person Name Gender Train/Test\n",
       "0  http://www.wikidata.org/entity/Q117915         -minu   Male       Test\n",
       "1   http://www.wikidata.org/entity/Q11515  (.)p(...)nin   Male      Train\n",
       "2   http://www.wikidata.org/entity/Q23923   12th Planet   Male      Train\n",
       "3  http://www.wikidata.org/entity/Q129668      2 Chainz   Male      Train\n",
       "4    http://www.wikidata.org/entity/Q6060       50 Cent   Male      Train"
      ]
     },
     "execution_count": 97,
     "metadata": {},
     "output_type": "execute_result"
    }
   ],
   "source": [
    "data_file.head(5)"
   ]
  },
  {
   "cell_type": "code",
   "execution_count": 98,
   "metadata": {},
   "outputs": [],
   "source": [
    "#male --> 0 and female --> 1\n",
    "data_file.loc[(data_file.Gender == 'Male'),'Gender']=0\n",
    "data_file.loc[(data_file.Gender == 'Female'),'Gender']=1"
   ]
  },
  {
   "cell_type": "code",
   "execution_count": 99,
   "metadata": {},
   "outputs": [
    {
     "data": {
      "text/html": [
       "<div>\n",
       "<style scoped>\n",
       "    .dataframe tbody tr th:only-of-type {\n",
       "        vertical-align: middle;\n",
       "    }\n",
       "\n",
       "    .dataframe tbody tr th {\n",
       "        vertical-align: top;\n",
       "    }\n",
       "\n",
       "    .dataframe thead th {\n",
       "        text-align: right;\n",
       "    }\n",
       "</style>\n",
       "<table border=\"1\" class=\"dataframe\">\n",
       "  <thead>\n",
       "    <tr style=\"text-align: right;\">\n",
       "      <th></th>\n",
       "      <th>Person ID</th>\n",
       "      <th>Person Name</th>\n",
       "      <th>Gender</th>\n",
       "      <th>Train/Test</th>\n",
       "    </tr>\n",
       "  </thead>\n",
       "  <tbody>\n",
       "    <tr>\n",
       "      <th>1942</th>\n",
       "      <td>http://www.wikidata.org/entity/Q106481</td>\n",
       "      <td>Alan Rickman</td>\n",
       "      <td>0</td>\n",
       "      <td>Test</td>\n",
       "    </tr>\n",
       "    <tr>\n",
       "      <th>40806</th>\n",
       "      <td>http://www.wikidata.org/entity/Q152835</td>\n",
       "      <td>Hans von Aachen</td>\n",
       "      <td>0</td>\n",
       "      <td>Train</td>\n",
       "    </tr>\n",
       "    <tr>\n",
       "      <th>7465</th>\n",
       "      <td>http://www.wikidata.org/entity/Q562622</td>\n",
       "      <td>Anna Månsdotter</td>\n",
       "      <td>1</td>\n",
       "      <td>Train</td>\n",
       "    </tr>\n",
       "    <tr>\n",
       "      <th>35044</th>\n",
       "      <td>http://www.wikidata.org/entity/Q87857</td>\n",
       "      <td>Fritz Grünbaum</td>\n",
       "      <td>0</td>\n",
       "      <td>Train</td>\n",
       "    </tr>\n",
       "    <tr>\n",
       "      <th>47317</th>\n",
       "      <td>http://www.wikidata.org/entity/Q467838</td>\n",
       "      <td>Ivy Matsepe-Casaburri</td>\n",
       "      <td>1</td>\n",
       "      <td>Train</td>\n",
       "    </tr>\n",
       "  </tbody>\n",
       "</table>\n",
       "</div>"
      ],
      "text/plain": [
       "                                    Person ID            Person Name Gender  \\\n",
       "1942   http://www.wikidata.org/entity/Q106481           Alan Rickman      0   \n",
       "40806  http://www.wikidata.org/entity/Q152835        Hans von Aachen      0   \n",
       "7465   http://www.wikidata.org/entity/Q562622        Anna Månsdotter      1   \n",
       "35044   http://www.wikidata.org/entity/Q87857         Fritz Grünbaum      0   \n",
       "47317  http://www.wikidata.org/entity/Q467838  Ivy Matsepe-Casaburri      1   \n",
       "\n",
       "      Train/Test  \n",
       "1942        Test  \n",
       "40806      Train  \n",
       "7465       Train  \n",
       "35044      Train  \n",
       "47317      Train  "
      ]
     },
     "execution_count": 99,
     "metadata": {},
     "output_type": "execute_result"
    }
   ],
   "source": [
    "data_file.sample(5)\n"
   ]
  },
  {
   "cell_type": "markdown",
   "metadata": {},
   "source": [
    "### feature engineering\n",
    "split person name into first name, middle name and remaining. First name maters in identifing geneder the most. \n",
    "I mean there is a coorelation between first name and target variable. So, first name is critical. I used last character of the first name as another feature and length of first name as a feature."
   ]
  },
  {
   "cell_type": "code",
   "execution_count": 100,
   "metadata": {},
   "outputs": [],
   "source": [
    "def get_first_name(name):\n",
    "    name = name.lower()\n",
    "    return name.split()[0]"
   ]
  },
  {
   "cell_type": "code",
   "execution_count": 101,
   "metadata": {},
   "outputs": [
    {
     "name": "stdout",
     "output_type": "stream",
     "text": [
      "a.p.j.\n"
     ]
    }
   ],
   "source": [
    "#test above function\n",
    "name = \"A.P.J. Abdul Kalam\"\n",
    "print(get_first_name(name))"
   ]
  },
  {
   "cell_type": "code",
   "execution_count": 102,
   "metadata": {},
   "outputs": [],
   "source": [
    "def get_middle_name(name):\n",
    "    name = name.lower()\n",
    "    arr = name.split()\n",
    "    if len(arr) > 2:\n",
    "        return arr[1]\n",
    "    else:\n",
    "        return None"
   ]
  },
  {
   "cell_type": "code",
   "execution_count": 103,
   "metadata": {},
   "outputs": [
    {
     "name": "stdout",
     "output_type": "stream",
     "text": [
      "von\n"
     ]
    }
   ],
   "source": [
    "name = \"Mistry von taylor jr.\"\n",
    "print(get_middle_name(name))"
   ]
  },
  {
   "cell_type": "code",
   "execution_count": 104,
   "metadata": {},
   "outputs": [],
   "source": [
    "def get_last_name(name):\n",
    "    name = name.lower()\n",
    "    arr = name.split()\n",
    "    return arr[len(arr) - 1]"
   ]
  },
  {
   "cell_type": "code",
   "execution_count": 105,
   "metadata": {},
   "outputs": [],
   "source": [
    "def get_length(name):\n",
    "    return len(name)"
   ]
  },
  {
   "cell_type": "code",
   "execution_count": 106,
   "metadata": {},
   "outputs": [],
   "source": [
    "data_file['First Name'] = data_file['Person Name'].apply(lambda x:get_first_name(x))"
   ]
  },
  {
   "cell_type": "code",
   "execution_count": 107,
   "metadata": {},
   "outputs": [],
   "source": [
    "data_file['Middle Name'] = data_file['Person Name'].apply(lambda x:get_middle_name(x))"
   ]
  },
  {
   "cell_type": "code",
   "execution_count": 108,
   "metadata": {},
   "outputs": [],
   "source": [
    "data_file['Last Name'] = data_file['Person Name'].apply(lambda x:get_last_name(x))"
   ]
  },
  {
   "cell_type": "code",
   "execution_count": 109,
   "metadata": {},
   "outputs": [],
   "source": [
    "data_file['length'] = data_file['First Name'].apply(lambda x:get_length(x))"
   ]
  },
  {
   "cell_type": "code",
   "execution_count": 110,
   "metadata": {},
   "outputs": [
    {
     "data": {
      "text/html": [
       "<div>\n",
       "<style scoped>\n",
       "    .dataframe tbody tr th:only-of-type {\n",
       "        vertical-align: middle;\n",
       "    }\n",
       "\n",
       "    .dataframe tbody tr th {\n",
       "        vertical-align: top;\n",
       "    }\n",
       "\n",
       "    .dataframe thead th {\n",
       "        text-align: right;\n",
       "    }\n",
       "</style>\n",
       "<table border=\"1\" class=\"dataframe\">\n",
       "  <thead>\n",
       "    <tr style=\"text-align: right;\">\n",
       "      <th></th>\n",
       "      <th>Person ID</th>\n",
       "      <th>Person Name</th>\n",
       "      <th>Gender</th>\n",
       "      <th>Train/Test</th>\n",
       "      <th>First Name</th>\n",
       "      <th>Middle Name</th>\n",
       "      <th>Last Name</th>\n",
       "      <th>length</th>\n",
       "    </tr>\n",
       "  </thead>\n",
       "  <tbody>\n",
       "    <tr>\n",
       "      <th>85624</th>\n",
       "      <td>http://www.wikidata.org/entity/Q116682</td>\n",
       "      <td>Samim</td>\n",
       "      <td>0</td>\n",
       "      <td>Train</td>\n",
       "      <td>samim</td>\n",
       "      <td>None</td>\n",
       "      <td>samim</td>\n",
       "      <td>5</td>\n",
       "    </tr>\n",
       "    <tr>\n",
       "      <th>39706</th>\n",
       "      <td>http://www.wikidata.org/entity/Q60692</td>\n",
       "      <td>Hamza Kastrioti</td>\n",
       "      <td>0</td>\n",
       "      <td>Train</td>\n",
       "      <td>hamza</td>\n",
       "      <td>None</td>\n",
       "      <td>kastrioti</td>\n",
       "      <td>5</td>\n",
       "    </tr>\n",
       "    <tr>\n",
       "      <th>81803</th>\n",
       "      <td>http://www.wikidata.org/entity/Q292879</td>\n",
       "      <td>Regan Lauscher</td>\n",
       "      <td>1</td>\n",
       "      <td>Test</td>\n",
       "      <td>regan</td>\n",
       "      <td>None</td>\n",
       "      <td>lauscher</td>\n",
       "      <td>5</td>\n",
       "    </tr>\n",
       "    <tr>\n",
       "      <th>3229</th>\n",
       "      <td>http://www.wikidata.org/entity/Q86743</td>\n",
       "      <td>Alfred Blaschko</td>\n",
       "      <td>0</td>\n",
       "      <td>Train</td>\n",
       "      <td>alfred</td>\n",
       "      <td>None</td>\n",
       "      <td>blaschko</td>\n",
       "      <td>6</td>\n",
       "    </tr>\n",
       "    <tr>\n",
       "      <th>26420</th>\n",
       "      <td>http://www.wikidata.org/entity/Q90446</td>\n",
       "      <td>Edwin Hartmann</td>\n",
       "      <td>0</td>\n",
       "      <td>Test</td>\n",
       "      <td>edwin</td>\n",
       "      <td>None</td>\n",
       "      <td>hartmann</td>\n",
       "      <td>5</td>\n",
       "    </tr>\n",
       "  </tbody>\n",
       "</table>\n",
       "</div>"
      ],
      "text/plain": [
       "                                    Person ID      Person Name Gender  \\\n",
       "85624  http://www.wikidata.org/entity/Q116682            Samim      0   \n",
       "39706   http://www.wikidata.org/entity/Q60692  Hamza Kastrioti      0   \n",
       "81803  http://www.wikidata.org/entity/Q292879   Regan Lauscher      1   \n",
       "3229    http://www.wikidata.org/entity/Q86743  Alfred Blaschko      0   \n",
       "26420   http://www.wikidata.org/entity/Q90446   Edwin Hartmann      0   \n",
       "\n",
       "      Train/Test First Name Middle Name  Last Name  length  \n",
       "85624      Train      samim        None      samim       5  \n",
       "39706      Train      hamza        None  kastrioti       5  \n",
       "81803       Test      regan        None   lauscher       5  \n",
       "3229       Train     alfred        None   blaschko       6  \n",
       "26420       Test      edwin        None   hartmann       5  "
      ]
     },
     "execution_count": 110,
     "metadata": {},
     "output_type": "execute_result"
    }
   ],
   "source": [
    "data_file.sample(5)"
   ]
  },
  {
   "cell_type": "code",
   "execution_count": 111,
   "metadata": {},
   "outputs": [],
   "source": [
    "# return numeric value of last char ( 0 ... 25)\n",
    "def create_gender_feature(word):\n",
    "    return ord(word[-1]) - 96"
   ]
  },
  {
   "cell_type": "code",
   "execution_count": 112,
   "metadata": {},
   "outputs": [],
   "source": [
    "data_file['Last char'] = data_file['First Name'].apply(lambda x:create_gender_feature(x))"
   ]
  },
  {
   "cell_type": "code",
   "execution_count": 113,
   "metadata": {},
   "outputs": [
    {
     "data": {
      "text/html": [
       "<div>\n",
       "<style scoped>\n",
       "    .dataframe tbody tr th:only-of-type {\n",
       "        vertical-align: middle;\n",
       "    }\n",
       "\n",
       "    .dataframe tbody tr th {\n",
       "        vertical-align: top;\n",
       "    }\n",
       "\n",
       "    .dataframe thead th {\n",
       "        text-align: right;\n",
       "    }\n",
       "</style>\n",
       "<table border=\"1\" class=\"dataframe\">\n",
       "  <thead>\n",
       "    <tr style=\"text-align: right;\">\n",
       "      <th></th>\n",
       "      <th>Person ID</th>\n",
       "      <th>Person Name</th>\n",
       "      <th>Gender</th>\n",
       "      <th>Train/Test</th>\n",
       "      <th>First Name</th>\n",
       "      <th>Middle Name</th>\n",
       "      <th>Last Name</th>\n",
       "      <th>length</th>\n",
       "      <th>Last char</th>\n",
       "    </tr>\n",
       "  </thead>\n",
       "  <tbody>\n",
       "    <tr>\n",
       "      <th>39497</th>\n",
       "      <td>http://www.wikidata.org/entity/Q166169</td>\n",
       "      <td>Gwendolyn Osborne</td>\n",
       "      <td>1</td>\n",
       "      <td>Train</td>\n",
       "      <td>gwendolyn</td>\n",
       "      <td>None</td>\n",
       "      <td>osborne</td>\n",
       "      <td>9</td>\n",
       "      <td>14</td>\n",
       "    </tr>\n",
       "    <tr>\n",
       "      <th>49624</th>\n",
       "      <td>http://www.wikidata.org/entity/Q9086</td>\n",
       "      <td>Jeremy Wariner</td>\n",
       "      <td>0</td>\n",
       "      <td>Train</td>\n",
       "      <td>jeremy</td>\n",
       "      <td>None</td>\n",
       "      <td>wariner</td>\n",
       "      <td>6</td>\n",
       "      <td>25</td>\n",
       "    </tr>\n",
       "    <tr>\n",
       "      <th>39801</th>\n",
       "      <td>http://www.wikidata.org/entity/Q446300</td>\n",
       "      <td>Hanna Kvanmo</td>\n",
       "      <td>1</td>\n",
       "      <td>Train</td>\n",
       "      <td>hanna</td>\n",
       "      <td>None</td>\n",
       "      <td>kvanmo</td>\n",
       "      <td>5</td>\n",
       "      <td>1</td>\n",
       "    </tr>\n",
       "    <tr>\n",
       "      <th>11014</th>\n",
       "      <td>http://www.wikidata.org/entity/Q275724</td>\n",
       "      <td>Audie England</td>\n",
       "      <td>1</td>\n",
       "      <td>Train</td>\n",
       "      <td>audie</td>\n",
       "      <td>None</td>\n",
       "      <td>england</td>\n",
       "      <td>5</td>\n",
       "      <td>5</td>\n",
       "    </tr>\n",
       "    <tr>\n",
       "      <th>2976</th>\n",
       "      <td>http://www.wikidata.org/entity/Q104586</td>\n",
       "      <td>Alexandra Bujdoso</td>\n",
       "      <td>1</td>\n",
       "      <td>Train</td>\n",
       "      <td>alexandra</td>\n",
       "      <td>None</td>\n",
       "      <td>bujdoso</td>\n",
       "      <td>9</td>\n",
       "      <td>1</td>\n",
       "    </tr>\n",
       "  </tbody>\n",
       "</table>\n",
       "</div>"
      ],
      "text/plain": [
       "                                    Person ID        Person Name Gender  \\\n",
       "39497  http://www.wikidata.org/entity/Q166169  Gwendolyn Osborne      1   \n",
       "49624    http://www.wikidata.org/entity/Q9086     Jeremy Wariner      0   \n",
       "39801  http://www.wikidata.org/entity/Q446300       Hanna Kvanmo      1   \n",
       "11014  http://www.wikidata.org/entity/Q275724      Audie England      1   \n",
       "2976   http://www.wikidata.org/entity/Q104586  Alexandra Bujdoso      1   \n",
       "\n",
       "      Train/Test First Name Middle Name Last Name  length  Last char  \n",
       "39497      Train  gwendolyn        None   osborne       9         14  \n",
       "49624      Train     jeremy        None   wariner       6         25  \n",
       "39801      Train      hanna        None    kvanmo       5          1  \n",
       "11014      Train      audie        None   england       5          5  \n",
       "2976       Train  alexandra        None   bujdoso       9          1  "
      ]
     },
     "execution_count": 113,
     "metadata": {},
     "output_type": "execute_result"
    }
   ],
   "source": [
    "data_file.sample(5)"
   ]
  },
  {
   "cell_type": "code",
   "execution_count": 114,
   "metadata": {},
   "outputs": [],
   "source": [
    "training_samples = data_file.loc[data_file['Train/Test'] == 'Train']\n",
    "testing_samples = data_file.loc[data_file['Train/Test'] == 'Test']"
   ]
  },
  {
   "cell_type": "code",
   "execution_count": 115,
   "metadata": {},
   "outputs": [
    {
     "data": {
      "text/html": [
       "<div>\n",
       "<style scoped>\n",
       "    .dataframe tbody tr th:only-of-type {\n",
       "        vertical-align: middle;\n",
       "    }\n",
       "\n",
       "    .dataframe tbody tr th {\n",
       "        vertical-align: top;\n",
       "    }\n",
       "\n",
       "    .dataframe thead th {\n",
       "        text-align: right;\n",
       "    }\n",
       "</style>\n",
       "<table border=\"1\" class=\"dataframe\">\n",
       "  <thead>\n",
       "    <tr style=\"text-align: right;\">\n",
       "      <th></th>\n",
       "      <th>Person ID</th>\n",
       "      <th>Person Name</th>\n",
       "      <th>Gender</th>\n",
       "      <th>Train/Test</th>\n",
       "      <th>First Name</th>\n",
       "      <th>Middle Name</th>\n",
       "      <th>Last Name</th>\n",
       "      <th>length</th>\n",
       "      <th>Last char</th>\n",
       "    </tr>\n",
       "  </thead>\n",
       "  <tbody>\n",
       "    <tr>\n",
       "      <th>1</th>\n",
       "      <td>http://www.wikidata.org/entity/Q11515</td>\n",
       "      <td>(.)p(...)nin</td>\n",
       "      <td>0</td>\n",
       "      <td>Train</td>\n",
       "      <td>(.)p(...)nin</td>\n",
       "      <td>None</td>\n",
       "      <td>(.)p(...)nin</td>\n",
       "      <td>12</td>\n",
       "      <td>14</td>\n",
       "    </tr>\n",
       "    <tr>\n",
       "      <th>2</th>\n",
       "      <td>http://www.wikidata.org/entity/Q23923</td>\n",
       "      <td>12th Planet</td>\n",
       "      <td>0</td>\n",
       "      <td>Train</td>\n",
       "      <td>12th</td>\n",
       "      <td>None</td>\n",
       "      <td>planet</td>\n",
       "      <td>4</td>\n",
       "      <td>8</td>\n",
       "    </tr>\n",
       "    <tr>\n",
       "      <th>3</th>\n",
       "      <td>http://www.wikidata.org/entity/Q129668</td>\n",
       "      <td>2 Chainz</td>\n",
       "      <td>0</td>\n",
       "      <td>Train</td>\n",
       "      <td>2</td>\n",
       "      <td>None</td>\n",
       "      <td>chainz</td>\n",
       "      <td>1</td>\n",
       "      <td>-46</td>\n",
       "    </tr>\n",
       "    <tr>\n",
       "      <th>4</th>\n",
       "      <td>http://www.wikidata.org/entity/Q6060</td>\n",
       "      <td>50 Cent</td>\n",
       "      <td>0</td>\n",
       "      <td>Train</td>\n",
       "      <td>50</td>\n",
       "      <td>None</td>\n",
       "      <td>cent</td>\n",
       "      <td>2</td>\n",
       "      <td>-48</td>\n",
       "    </tr>\n",
       "    <tr>\n",
       "      <th>5</th>\n",
       "      <td>http://www.wikidata.org/entity/Q703112</td>\n",
       "      <td>A-Lin</td>\n",
       "      <td>1</td>\n",
       "      <td>Train</td>\n",
       "      <td>a-lin</td>\n",
       "      <td>None</td>\n",
       "      <td>a-lin</td>\n",
       "      <td>5</td>\n",
       "      <td>14</td>\n",
       "    </tr>\n",
       "  </tbody>\n",
       "</table>\n",
       "</div>"
      ],
      "text/plain": [
       "                                Person ID   Person Name Gender Train/Test  \\\n",
       "1   http://www.wikidata.org/entity/Q11515  (.)p(...)nin      0      Train   \n",
       "2   http://www.wikidata.org/entity/Q23923   12th Planet      0      Train   \n",
       "3  http://www.wikidata.org/entity/Q129668      2 Chainz      0      Train   \n",
       "4    http://www.wikidata.org/entity/Q6060       50 Cent      0      Train   \n",
       "5  http://www.wikidata.org/entity/Q703112         A-Lin      1      Train   \n",
       "\n",
       "     First Name Middle Name     Last Name  length  Last char  \n",
       "1  (.)p(...)nin        None  (.)p(...)nin      12         14  \n",
       "2          12th        None        planet       4          8  \n",
       "3             2        None        chainz       1        -46  \n",
       "4            50        None          cent       2        -48  \n",
       "5         a-lin        None         a-lin       5         14  "
      ]
     },
     "execution_count": 115,
     "metadata": {},
     "output_type": "execute_result"
    }
   ],
   "source": [
    "training_samples.head(5)"
   ]
  },
  {
   "cell_type": "code",
   "execution_count": 116,
   "metadata": {},
   "outputs": [
    {
     "data": {
      "text/html": [
       "<div>\n",
       "<style scoped>\n",
       "    .dataframe tbody tr th:only-of-type {\n",
       "        vertical-align: middle;\n",
       "    }\n",
       "\n",
       "    .dataframe tbody tr th {\n",
       "        vertical-align: top;\n",
       "    }\n",
       "\n",
       "    .dataframe thead th {\n",
       "        text-align: right;\n",
       "    }\n",
       "</style>\n",
       "<table border=\"1\" class=\"dataframe\">\n",
       "  <thead>\n",
       "    <tr style=\"text-align: right;\">\n",
       "      <th></th>\n",
       "      <th>Person ID</th>\n",
       "      <th>Person Name</th>\n",
       "      <th>Gender</th>\n",
       "      <th>Train/Test</th>\n",
       "      <th>First Name</th>\n",
       "      <th>Middle Name</th>\n",
       "      <th>Last Name</th>\n",
       "      <th>length</th>\n",
       "      <th>Last char</th>\n",
       "    </tr>\n",
       "  </thead>\n",
       "  <tbody>\n",
       "    <tr>\n",
       "      <th>0</th>\n",
       "      <td>http://www.wikidata.org/entity/Q117915</td>\n",
       "      <td>-minu</td>\n",
       "      <td>0</td>\n",
       "      <td>Test</td>\n",
       "      <td>-minu</td>\n",
       "      <td>None</td>\n",
       "      <td>-minu</td>\n",
       "      <td>5</td>\n",
       "      <td>21</td>\n",
       "    </tr>\n",
       "    <tr>\n",
       "      <th>6</th>\n",
       "      <td>http://www.wikidata.org/entity/Q713461</td>\n",
       "      <td>A-Mei</td>\n",
       "      <td>1</td>\n",
       "      <td>Test</td>\n",
       "      <td>a-mei</td>\n",
       "      <td>None</td>\n",
       "      <td>a-mei</td>\n",
       "      <td>5</td>\n",
       "      <td>9</td>\n",
       "    </tr>\n",
       "    <tr>\n",
       "      <th>10</th>\n",
       "      <td>http://www.wikidata.org/entity/Q122001</td>\n",
       "      <td>A. E. Johann</td>\n",
       "      <td>0</td>\n",
       "      <td>Test</td>\n",
       "      <td>a.</td>\n",
       "      <td>e.</td>\n",
       "      <td>johann</td>\n",
       "      <td>2</td>\n",
       "      <td>-50</td>\n",
       "    </tr>\n",
       "    <tr>\n",
       "      <th>12</th>\n",
       "      <td>http://www.wikidata.org/entity/Q55771</td>\n",
       "      <td>A. H. Salunkhe</td>\n",
       "      <td>0</td>\n",
       "      <td>Test</td>\n",
       "      <td>a.</td>\n",
       "      <td>h.</td>\n",
       "      <td>salunkhe</td>\n",
       "      <td>2</td>\n",
       "      <td>-50</td>\n",
       "    </tr>\n",
       "    <tr>\n",
       "      <th>13</th>\n",
       "      <td>http://www.wikidata.org/entity/Q18219</td>\n",
       "      <td>A. J. Buckley</td>\n",
       "      <td>0</td>\n",
       "      <td>Test</td>\n",
       "      <td>a.</td>\n",
       "      <td>j.</td>\n",
       "      <td>buckley</td>\n",
       "      <td>2</td>\n",
       "      <td>-50</td>\n",
       "    </tr>\n",
       "  </tbody>\n",
       "</table>\n",
       "</div>"
      ],
      "text/plain": [
       "                                 Person ID     Person Name Gender Train/Test  \\\n",
       "0   http://www.wikidata.org/entity/Q117915           -minu      0       Test   \n",
       "6   http://www.wikidata.org/entity/Q713461           A-Mei      1       Test   \n",
       "10  http://www.wikidata.org/entity/Q122001    A. E. Johann      0       Test   \n",
       "12   http://www.wikidata.org/entity/Q55771  A. H. Salunkhe      0       Test   \n",
       "13   http://www.wikidata.org/entity/Q18219   A. J. Buckley      0       Test   \n",
       "\n",
       "   First Name Middle Name Last Name  length  Last char  \n",
       "0       -minu        None     -minu       5         21  \n",
       "6       a-mei        None     a-mei       5          9  \n",
       "10         a.          e.    johann       2        -50  \n",
       "12         a.          h.  salunkhe       2        -50  \n",
       "13         a.          j.   buckley       2        -50  "
      ]
     },
     "execution_count": 116,
     "metadata": {},
     "output_type": "execute_result"
    }
   ],
   "source": [
    "testing_samples.head(5)"
   ]
  },
  {
   "cell_type": "code",
   "execution_count": 117,
   "metadata": {},
   "outputs": [
    {
     "name": "stdout",
     "output_type": "stream",
     "text": [
      "(79992, 9)\n",
      "(20007, 9)\n"
     ]
    }
   ],
   "source": [
    "print(training_samples.shape)\n",
    "print(testing_samples.shape)"
   ]
  },
  {
   "cell_type": "code",
   "execution_count": 118,
   "metadata": {},
   "outputs": [],
   "source": [
    "selected_features = training_samples[['Last char','length']]\n",
    "training_features = selected_features.values.tolist()\n",
    "training_labels = training_samples['Gender'].to_list()"
   ]
  },
  {
   "cell_type": "code",
   "execution_count": 119,
   "metadata": {},
   "outputs": [
    {
     "data": {
      "text/html": [
       "<div>\n",
       "<style scoped>\n",
       "    .dataframe tbody tr th:only-of-type {\n",
       "        vertical-align: middle;\n",
       "    }\n",
       "\n",
       "    .dataframe tbody tr th {\n",
       "        vertical-align: top;\n",
       "    }\n",
       "\n",
       "    .dataframe thead th {\n",
       "        text-align: right;\n",
       "    }\n",
       "</style>\n",
       "<table border=\"1\" class=\"dataframe\">\n",
       "  <thead>\n",
       "    <tr style=\"text-align: right;\">\n",
       "      <th></th>\n",
       "      <th>Last char</th>\n",
       "      <th>length</th>\n",
       "    </tr>\n",
       "  </thead>\n",
       "  <tbody>\n",
       "    <tr>\n",
       "      <th>1</th>\n",
       "      <td>14</td>\n",
       "      <td>12</td>\n",
       "    </tr>\n",
       "    <tr>\n",
       "      <th>2</th>\n",
       "      <td>8</td>\n",
       "      <td>4</td>\n",
       "    </tr>\n",
       "    <tr>\n",
       "      <th>3</th>\n",
       "      <td>-46</td>\n",
       "      <td>1</td>\n",
       "    </tr>\n",
       "    <tr>\n",
       "      <th>4</th>\n",
       "      <td>-48</td>\n",
       "      <td>2</td>\n",
       "    </tr>\n",
       "    <tr>\n",
       "      <th>5</th>\n",
       "      <td>14</td>\n",
       "      <td>5</td>\n",
       "    </tr>\n",
       "    <tr>\n",
       "      <th>7</th>\n",
       "      <td>-50</td>\n",
       "      <td>2</td>\n",
       "    </tr>\n",
       "  </tbody>\n",
       "</table>\n",
       "</div>"
      ],
      "text/plain": [
       "   Last char  length\n",
       "1         14      12\n",
       "2          8       4\n",
       "3        -46       1\n",
       "4        -48       2\n",
       "5         14       5\n",
       "7        -50       2"
      ]
     },
     "execution_count": 119,
     "metadata": {},
     "output_type": "execute_result"
    }
   ],
   "source": [
    "selected_features.head(6)"
   ]
  },
  {
   "cell_type": "code",
   "execution_count": 120,
   "metadata": {},
   "outputs": [],
   "source": [
    "test_features = testing_samples[['Last char','length']]\n",
    "testing_features = test_features.values.tolist()\n",
    "testing_labels = testing_samples['Gender'].to_list()"
   ]
  },
  {
   "cell_type": "code",
   "execution_count": 121,
   "metadata": {},
   "outputs": [],
   "source": [
    "# we use the feature extractor to process the names data.\n",
    "#features = []\n",
    "#test_features = []\n",
    "#for name in training_features:\n",
    "#    features.append([name])\n",
    "#for feature in testing_features:\n",
    "#    test_features.append([feature])    "
   ]
  },
  {
   "cell_type": "code",
   "execution_count": 122,
   "metadata": {},
   "outputs": [],
   "source": [
    "#convert python array to ndarray\n",
    "#features = np.array(features)\n",
    "#labels = np.array(training_labels)\n",
    "#test_features = np.array(test_features)\n",
    "#testing_labels = np.array(testing_labels)"
   ]
  },
  {
   "cell_type": "code",
   "execution_count": 123,
   "metadata": {},
   "outputs": [
    {
     "name": "stdout",
     "output_type": "stream",
     "text": [
      "[[14, 12], [8, 4], [-46, 1], [-48, 2], [14, 5], [-50, 2], [-50, 2], [-50, 2], [-50, 2], [-50, 2]]\n",
      "<class 'list'>\n"
     ]
    }
   ],
   "source": [
    "print(training_features[:10])\n",
    "print(type(training_labels))"
   ]
  },
  {
   "cell_type": "code",
   "execution_count": null,
   "metadata": {},
   "outputs": [],
   "source": []
  },
  {
   "cell_type": "code",
   "execution_count": 124,
   "metadata": {},
   "outputs": [],
   "source": [
    "def euclidean_distance(training_instance, test_instance):\n",
    "    \"\"\"\n",
    "    calculates distance between two points\n",
    "\n",
    "    Parameters:\n",
    "           training_instance: is a numeric feature list - training instance\n",
    "           test_instance: point is a numeric feature list - test instance\n",
    "    Returns:\n",
    "          distance in float\n",
    "   \"\"\"\n",
    "    \n",
    "    distance = 0\n",
    "    for index in range(len(training_instance)):\n",
    "        distance += pow(test_instance[index] - training_instance[index],2)\n",
    "    return math.sqrt(distance)"
   ]
  },
  {
   "cell_type": "code",
   "execution_count": 125,
   "metadata": {},
   "outputs": [
    {
     "data": {
      "text/plain": [
       "1.4142135623730951"
      ]
     },
     "execution_count": 125,
     "metadata": {},
     "output_type": "execute_result"
    }
   ],
   "source": [
    "# Euclidean Distance Caculator for testing\n",
    "data1=[2,1]\n",
    "data2=[1,2]\n",
    "euclidean_distance(data1,data2)"
   ]
  },
  {
   "cell_type": "code",
   "execution_count": 126,
   "metadata": {},
   "outputs": [],
   "source": [
    "def get_neighbours(training_data, training_label, test_instance, k=3):\n",
    "    \"\"\"\n",
    "    calculates distance between two points\n",
    "\n",
    "    Parameters:\n",
    "           training_data: is a numeric feature list - training instance\n",
    "           test_instance: point is a numeric feature list - test instance\n",
    "    Returns:\n",
    "          distance in float\n",
    "   \"\"\"\n",
    "\n",
    "    distances = []\n",
    "    for x in range(len(training_data)):\n",
    "        training_instance = training_data[x].copy()\n",
    "        distance = euclidean_distance(training_instance, test_instance)\n",
    "        training_instance.extend((training_label[x],distance))\n",
    "        distances.append(training_instance) \n",
    "\n",
    "    distances.sort(key=operator.itemgetter(3), reverse=False) \n",
    "    return distances[:k]       "
   ]
  },
  {
   "cell_type": "code",
   "execution_count": 127,
   "metadata": {},
   "outputs": [],
   "source": [
    "def predict(neighbours):\n",
    "    prediction = {}\n",
    "    for x in range(len(neighbours)):\n",
    "        response = neighbours[x][-2]\n",
    "        if response in prediction:\n",
    "            prediction[response] += 1\n",
    "        else:\n",
    "            prediction[response] = 1\n",
    "    sorted_votes = sorted(prediction.items(), key=operator.itemgetter(1), reverse=True)\n",
    "    return sorted_votes[0][0]"
   ]
  },
  {
   "cell_type": "code",
   "execution_count": 128,
   "metadata": {},
   "outputs": [],
   "source": [
    "#FOR TESTING the above function\n",
    "#X_train = [[10,10,10], [2,2,2], [40,40,40]]\n",
    "#X_test = [3,3,3]\n",
    "#y_train = ['a', 'b','c']\n",
    "#y_test  = ['b']\n",
    "\n",
    "#neighbors = get_neighbours(X_train, y_train, X_test, 2)\n",
    "#print(type(X))\n",
    "#print(neighbors)\n",
    "\n",
    "#predicted_value = predict(neighbors)\n",
    "#print(predicted_value)\n",
    "#print(X_train )"
   ]
  },
  {
   "cell_type": "markdown",
   "metadata": {
    "collapsed": true
   },
   "source": [
    "### How to apply KNN\n",
    " 1. convert numpy ndarray to python list\n",
    " 2. split to trainging and test set ( not required here )\n",
    " 3. Measure accuracy"
   ]
  },
  {
   "cell_type": "code",
   "execution_count": 152,
   "metadata": {},
   "outputs": [],
   "source": [
    "#(number of persons whose gender was correctly predicted) / (number of persons)\n",
    "def accuracy_score(true_labels, predicted_labels):\n",
    "    count = 0\n",
    "    for i in range(len(true_labels)):\n",
    "        if ( true_labels[i] == predicted_labels[i]):\n",
    "            count = count+1\n",
    "    return count/len(true_labels)\n"
   ]
  },
  {
   "cell_type": "code",
   "execution_count": 156,
   "metadata": {},
   "outputs": [
    {
     "name": "stdout",
     "output_type": "stream",
     "text": [
      "0.5\n"
     ]
    }
   ],
   "source": [
    "a=[1,0,1,1]\n",
    "b=[1,1,1,0]\n",
    "print(accuracy_score(a, b))"
   ]
  },
  {
   "cell_type": "code",
   "execution_count": 129,
   "metadata": {},
   "outputs": [
    {
     "ename": "NameError",
     "evalue": "name 'accuracy_score' is not defined",
     "output_type": "error",
     "traceback": [
      "\u001b[0;31m---------------------------------------------------------------------------\u001b[0m",
      "\u001b[0;31mNameError\u001b[0m                                 Traceback (most recent call last)",
      "\u001b[0;32m<ipython-input-129-386cf2eca15e>\u001b[0m in \u001b[0;36m<module>\u001b[0;34m\u001b[0m\n\u001b[1;32m      5\u001b[0m \u001b[0;31m#    print(neighbors)\u001b[0m\u001b[0;34m\u001b[0m\u001b[0;34m\u001b[0m\u001b[0;34m\u001b[0m\u001b[0m\n\u001b[1;32m      6\u001b[0m     \u001b[0my_pred\u001b[0m\u001b[0;34m.\u001b[0m\u001b[0mappend\u001b[0m\u001b[0;34m(\u001b[0m\u001b[0mpredict\u001b[0m\u001b[0;34m(\u001b[0m\u001b[0mneighbors\u001b[0m\u001b[0;34m)\u001b[0m\u001b[0;34m)\u001b[0m\u001b[0;34m\u001b[0m\u001b[0;34m\u001b[0m\u001b[0m\n\u001b[0;32m----> 7\u001b[0;31m \u001b[0maccuracy_score\u001b[0m\u001b[0;34m(\u001b[0m\u001b[0mtesting_labels\u001b[0m\u001b[0;34m,\u001b[0m \u001b[0my_pred\u001b[0m\u001b[0;34m)\u001b[0m\u001b[0;34m\u001b[0m\u001b[0;34m\u001b[0m\u001b[0m\n\u001b[0m",
      "\u001b[0;31mNameError\u001b[0m: name 'accuracy_score' is not defined"
     ]
    }
   ],
   "source": [
    "y_pred = []\n",
    "for test_index in range(len(testing_features)):\n",
    "    \n",
    "    neighbors = get_neighbours(training_features, training_labels, testing_features[test_index], 10)\n",
    "#    print(neighbors)\n",
    "    y_pred.append(predict(neighbors))\n",
    "#   \n",
    "accuracy_score(testing_labels, y_pred)"
   ]
  },
  {
   "cell_type": "code",
   "execution_count": 157,
   "metadata": {},
   "outputs": [
    {
     "name": "stdout",
     "output_type": "stream",
     "text": [
      "0.7603838656470235\n"
     ]
    }
   ],
   "source": [
    "print(accuracy_score(testing_labels, y_pred))"
   ]
  },
  {
   "cell_type": "markdown",
   "metadata": {},
   "source": [
    "### compare results with actual SKLearn package"
   ]
  },
  {
   "cell_type": "code",
   "execution_count": 158,
   "metadata": {},
   "outputs": [
    {
     "data": {
      "text/plain": [
       "0.7901734392962463"
      ]
     },
     "execution_count": 158,
     "metadata": {},
     "output_type": "execute_result"
    }
   ],
   "source": [
    "# KNN from sklearn \n",
    "#Import knearest neighbors Classifier model\n",
    "from sklearn.neighbors import KNeighborsClassifier\n",
    "\n",
    "#Create KNN Classifier\n",
    "knn = KNeighborsClassifier(n_neighbors=5) ## how to determine value of k??\n",
    "\n",
    "#Train the model using the training sets\n",
    "knn.fit(training_features, training_labels)\n",
    "\n",
    "#Predict the response for test dataset\n",
    "y_pred = knn.predict(testing_features)\n",
    "accuracy_score(testing_labels, y_pred)"
   ]
  },
  {
   "cell_type": "code",
   "execution_count": null,
   "metadata": {
    "collapsed": true
   },
   "outputs": [],
   "source": []
  }
 ],
 "metadata": {
  "kernelspec": {
   "display_name": "Python 3",
   "language": "python",
   "name": "python3"
  }
 },
 "nbformat": 4,
 "nbformat_minor": 2
}
